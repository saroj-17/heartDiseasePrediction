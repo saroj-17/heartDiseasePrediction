{
 "cells": [
  {
   "cell_type": "markdown",
   "id": "f2812da1-df56-42fc-99c7-ada46edd3812",
   "metadata": {},
   "source": [
    "## Data preperation"
   ]
  },
  {
   "cell_type": "code",
   "execution_count": 1,
   "id": "fd264ad3-2f55-4604-b539-453d5642bff3",
   "metadata": {},
   "outputs": [
    {
     "name": "stdout",
     "output_type": "stream",
     "text": [
      "  HeartDisease    BMI Smoking AlcoholDrinking Stroke  PhysicalHealth  \\\n",
      "0           No  16.60     Yes              No     No             3.0   \n",
      "1           No  20.34      No              No    Yes             0.0   \n",
      "2           No  26.58     Yes              No     No            20.0   \n",
      "3           No  24.21      No              No     No             0.0   \n",
      "4           No  23.71      No              No     No            28.0   \n",
      "\n",
      "   MentalHealth DiffWalking     Sex  AgeCategory   Race Diabetic  \\\n",
      "0          30.0          No  Female        55-59  White      Yes   \n",
      "1           0.0          No  Female  80 or older  White       No   \n",
      "2          30.0          No    Male        65-69  White      Yes   \n",
      "3           0.0          No  Female        75-79  White       No   \n",
      "4           0.0         Yes  Female        40-44  White       No   \n",
      "\n",
      "  PhysicalActivity  GenHealth  SleepTime Asthma KidneyDisease SkinCancer  \n",
      "0              Yes  Very good        5.0    Yes            No        Yes  \n",
      "1              Yes  Very good        7.0     No            No         No  \n",
      "2              Yes       Fair        8.0    Yes            No         No  \n",
      "3               No       Good        6.0     No            No        Yes  \n",
      "4              Yes  Very good        8.0     No            No         No  \n"
     ]
    }
   ],
   "source": [
    "import pandas as pd\n",
    "\n",
    "file_path = '/home/saroj/Desktop/DSSES/heart_disease.csv'\n",
    "df = pd.read_csv(file_path)\n",
    "\n",
    "print(df.head())  # Display the first few rows of the dataframe\n",
    "\n",
    "# Encoding the categorical values\n",
    "df['HeartDisease'] = df['HeartDisease'].apply(lambda x: 1 if x == 'Yes' else 0)\n",
    "\n",
    "# Separate features and target\n",
    "X = df.drop('HeartDisease', axis=1)\n",
    "y = df['HeartDisease']\n",
    "\n",
    "# List of numerical and categorical features\n",
    "numerical_features = ['BMI', 'PhysicalHealth', 'MentalHealth', 'SleepTime']\n",
    "categorical_features = ['Smoking', 'AlcoholDrinking', 'Stroke', 'DiffWalking', 'Sex', 'AgeCategory', 'Race', 'Diabetic', 'PhysicalActivity', 'GenHealth', 'Asthma', 'KidneyDisease', 'SkinCancer']\n"
   ]
  },
  {
   "cell_type": "markdown",
   "id": "48c72826-9bd9-498a-a6ea-552096ac206d",
   "metadata": {},
   "source": [
    "### Data preprocesiing"
   ]
  },
  {
   "cell_type": "code",
   "execution_count": 2,
   "id": "80d5c0dc-bc12-4c12-b470-f3de825dd223",
   "metadata": {},
   "outputs": [],
   "source": [
    "from sklearn.pipeline import Pipeline\n",
    "from sklearn.preprocessing import StandardScaler, OneHotEncoder\n",
    "from sklearn.compose import ColumnTransformer\n",
    "from sklearn.impute import SimpleImputer\n",
    "\n",
    "# Create Transformers for Preprocessing\n",
    "numerical_transformer = Pipeline(steps=[\n",
    "    ('imputer', SimpleImputer(strategy='mean')),\n",
    "    ('scaler', StandardScaler())\n",
    "])\n",
    "\n",
    "categorical_transformer = Pipeline(steps=[\n",
    "    ('imputer', SimpleImputer(strategy='constant', fill_value='missing')),\n",
    "    ('onehot', OneHotEncoder(handle_unknown='ignore'))\n",
    "])\n",
    "\n",
    "# Combine Transformers into a ColumnTransformer\n",
    "preprocessor = ColumnTransformer(\n",
    "    transformers=[\n",
    "        ('num', numerical_transformer, numerical_features),\n",
    "        ('cat', categorical_transformer, categorical_features)\n",
    "    ])\n"
   ]
  },
  {
   "cell_type": "markdown",
   "id": "d01c29e1-685f-407c-a3de-882387b57a53",
   "metadata": {},
   "source": [
    "### Model Training"
   ]
  },
  {
   "cell_type": "code",
   "execution_count": 3,
   "id": "04cebb87-f339-4926-9fd5-076086ef48cb",
   "metadata": {},
   "outputs": [
    {
     "name": "stdout",
     "output_type": "stream",
     "text": [
      "Training the model...\n",
      "Training complete.\n",
      "\n",
      "Classification Report:\n",
      "\n",
      "              precision    recall  f1-score   support\n",
      "\n",
      "           0       0.92      0.97      0.95     58367\n",
      "           1       0.32      0.13      0.18      5592\n",
      "\n",
      "    accuracy                           0.90     63959\n",
      "   macro avg       0.62      0.55      0.57     63959\n",
      "weighted avg       0.87      0.90      0.88     63959\n",
      "\n"
     ]
    }
   ],
   "source": [
    "from sklearn.model_selection import train_test_split\n",
    "from sklearn.ensemble import RandomForestClassifier\n",
    "from sklearn.metrics import classification_report\n",
    "\n",
    "X_train, X_test, y_train, y_test = train_test_split(X, y, test_size=0.2, random_state=42)\n",
    "\n",
    "# Create a pipeline that combines preprocessing and the model\n",
    "model_pipeline = Pipeline(steps=[\n",
    "    ('preprocessor', preprocessor),\n",
    "    ('classifier', RandomForestClassifier(random_state=42, n_estimators=10, warm_start=True))\n",
    "])\n",
    "\n",
    "# Train the model\n",
    "print(\"Training the model...\")\n",
    "model_pipeline.fit(X_train, y_train)\n",
    "print(\"Training complete.\")\n",
    "\n",
    "# Evaluate the model\n",
    "y_pred = model_pipeline.predict(X_test)\n",
    "y_prob = model_pipeline.predict_proba(X_test)[:, 1]\n",
    "\n",
    "print(\"\\nClassification Report:\\n\")\n",
    "print(classification_report(y_test, y_pred))\n"
   ]
  },
  {
   "cell_type": "markdown",
   "id": "37d88615-d0ab-4323-acba-993fa5e05a16",
   "metadata": {},
   "source": [
    "### Save the model"
   ]
  },
  {
   "cell_type": "code",
   "execution_count": 4,
   "id": "5ba3cc85-8ae2-40c2-a512-79285ee92965",
   "metadata": {},
   "outputs": [
    {
     "name": "stdout",
     "output_type": "stream",
     "text": [
      "Model saved as heart_disease_model.pkl\n"
     ]
    }
   ],
   "source": [
    "import pickle\n",
    "\n",
    "# Save the trained model as a pickle file\n",
    "with open('heart_disease_model.pkl', 'wb') as f:\n",
    "    pickle.dump(model_pipeline, f)\n",
    "\n",
    "print(\"Model saved as heart_disease_model.pkl\")\n"
   ]
  },
  {
   "cell_type": "markdown",
   "id": "2d760e00-248f-47c0-8f5b-c28fd091e77b",
   "metadata": {},
   "source": [
    "### Load the model "
   ]
  },
  {
   "cell_type": "code",
   "execution_count": 5,
   "id": "a52f557c-263c-4e25-aaee-3dd6e83b60d7",
   "metadata": {},
   "outputs": [],
   "source": [
    "import pickle\n",
    "\n",
    "# Load the model from the pickle file\n",
    "with open('heart_disease_model.pkl', 'rb') as f:\n",
    "    model = pickle.load(f)\n"
   ]
  },
  {
   "cell_type": "markdown",
   "id": "236e2fdf-0482-4e30-a43f-984fbee88e0e",
   "metadata": {},
   "source": [
    "### Provide Input and Make Prediction"
   ]
  },
  {
   "cell_type": "code",
   "execution_count": 7,
   "id": "e88cecf8-262a-48f5-b5fa-50e0d13e2d71",
   "metadata": {},
   "outputs": [
    {
     "name": "stdout",
     "output_type": "stream",
     "text": [
      "The patient is predicted to not have heart disease.\n",
      "Probability of having heart disease: 0.20\n"
     ]
    }
   ],
   "source": [
    "new_data = {\n",
    "    'BMI': 16.6,\n",
    "    'PhysicalHealth': 3,\n",
    "    'MentalHealth': 30,\n",
    "    'SleepTime': 5,\n",
    "    'Smoking': 'Yes',\n",
    "    'AlcoholDrinking': 'No',\n",
    "    'Stroke': 'No',\n",
    "    'DiffWalking': 'No',\n",
    "    'Sex': 'Female',\n",
    "    'AgeCategory': 'Middle-aged',\n",
    "    'Race': 'White',\n",
    "    'Diabetic': 'No',\n",
    "    'PhysicalActivity': 'Yes',\n",
    "    'GenHealth': 'Good',\n",
    "    'Asthma': 'No',\n",
    "    'KidneyDisease': 'No',\n",
    "    'SkinCancer': 'Yes'\n",
    "}\n",
    "\n",
    "# Create a DataFrame from the new data\n",
    "new_df = pd.DataFrame([new_data])\n",
    "\n",
    "# Make a prediction\n",
    "prediction = model.predict(new_df)[0]\n",
    "probability = model.predict_proba(new_df)[0][1]  # Probability of having heart disease\n",
    "\n",
    "# Display the prediction\n",
    "if prediction == 1:\n",
    "    print(\"The patient is predicted to have heart disease.\")\n",
    "else:\n",
    "    print(\"The patient is predicted to not have heart disease.\")\n",
    "\n",
    "print(f\"Probability of having heart disease: {probability:.2f}\")\n"
   ]
  },
  {
   "cell_type": "code",
   "execution_count": null,
   "id": "d80fd573-e1b0-4149-86a2-6011c311fb43",
   "metadata": {},
   "outputs": [],
   "source": []
  }
 ],
 "metadata": {
  "kernelspec": {
   "display_name": "Python 3 (ipykernel)",
   "language": "python",
   "name": "python3"
  },
  "language_info": {
   "codemirror_mode": {
    "name": "ipython",
    "version": 3
   },
   "file_extension": ".py",
   "mimetype": "text/x-python",
   "name": "python",
   "nbconvert_exporter": "python",
   "pygments_lexer": "ipython3",
   "version": "3.11.5"
  }
 },
 "nbformat": 4,
 "nbformat_minor": 5
}
